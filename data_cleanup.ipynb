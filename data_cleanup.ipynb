{
 "cells": [
  {
   "cell_type": "code",
   "execution_count": null,
   "id": "4fd27e0f",
   "metadata": {},
   "outputs": [],
   "source": [
    "# Import dependencies\n",
    "import pandas as pd"
   ]
  },
  {
   "cell_type": "code",
   "execution_count": null,
   "id": "f23f0014",
   "metadata": {},
   "outputs": [],
   "source": [
    "# Read the csv files into data frames\n",
    "happiness_data = pd.read_csv(\"world_happiness_2019.csv\")\n",
    "world_bank_data = pd.read_csv(\"world_bank_2019.csv\")\n",
    "happiness_data.head()"
   ]
  },
  {
   "cell_type": "code",
   "execution_count": null,
   "id": "d9ff4d4a",
   "metadata": {},
   "outputs": [],
   "source": [
    "# Reduce world bank dataset to country name and year\n",
    "workforce_gender_ratios = world_bank_data[['Country Name', '2019 [YR2019]']]\n",
    "\n",
    "# Rename 2019 column to Gender Ratio and Country Name to Country\n",
    "workforce_gender_ratios = workforce_gender_ratios.rename(columns={'Country Name': 'Country',\n",
    "                                                                  '2019 [YR2019]': 'Workforce Gender Ratio'})\n",
    "\n",
    "# Remove countries that do not have workforce gender ratios from the dataset\n",
    "workforce_gender_ratios = workforce_gender_ratios.loc[workforce_gender_ratios['Workforce Gender Ratio'] != '..']\n",
    "workforce_gender_ratios.head()"
   ]
  },
  {
   "cell_type": "code",
   "execution_count": null,
   "id": "c9cc17a9",
   "metadata": {},
   "outputs": [],
   "source": [
    "# Set the indeces of the world happiness data to be overall rank\n",
    "happiness_data = happiness_data.set_index('Overall rank')\n",
    "happiness_data = happiness_data.rename(columns={'Country or region': 'Country'})\n",
    "happiness_data.head()"
   ]
  },
  {
   "cell_type": "code",
   "execution_count": null,
   "id": "799b841b",
   "metadata": {},
   "outputs": [],
   "source": [
    "# Merge the two datasets on country\n",
    "merged_data = pd.merge(happiness_data, workforce_gender_ratios, on='Country', how='inner')\n",
    "merged_data.head()"
   ]
  },
  {
   "cell_type": "code",
   "execution_count": null,
   "id": "a49a7e5a",
   "metadata": {},
   "outputs": [],
   "source": []
  }
 ],
 "metadata": {
  "kernelspec": {
   "display_name": "Python 3",
   "language": "python",
   "name": "python3"
  },
  "language_info": {
   "codemirror_mode": {
    "name": "ipython",
    "version": 3
   },
   "file_extension": ".py",
   "mimetype": "text/x-python",
   "name": "python",
   "nbconvert_exporter": "python",
   "pygments_lexer": "ipython3",
   "version": "3.8.8"
  }
 },
 "nbformat": 4,
 "nbformat_minor": 5
}
