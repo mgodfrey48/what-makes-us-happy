{
 "cells": [
  {
   "cell_type": "code",
   "execution_count": null,
   "id": "1bfea243",
   "metadata": {},
   "outputs": [],
   "source": [
    "import matplotlib.pyplot as plt\n",
    "import pandas as pd\n",
    "import numpy as np\n",
    "import requests\n",
    "from scipy.stats import linregress"
   ]
  },
  {
   "cell_type": "code",
   "execution_count": null,
   "id": "c37256c4",
   "metadata": {},
   "outputs": [],
   "source": [
    "file = \"output/merged_data.csv\"\n",
    "happy_data = pd.read_csv(file)\n",
    "happy_data.head()"
   ]
  },
  {
   "cell_type": "code",
   "execution_count": null,
   "id": "77d62ac6",
   "metadata": {},
   "outputs": [],
   "source": [
    "#xval=happy_data['Workforce Gender Ratio']\n",
    "#xval=happy_data['GDP per capita']\n",
    "xval=happy_data['Social support']\n",
    "yval=happy_data['Score']\n",
    "plt.scatter(xval, yval)"
   ]
  },
  {
   "cell_type": "code",
   "execution_count": null,
   "id": "b5f3cf42",
   "metadata": {},
   "outputs": [],
   "source": [
    "# col = 'GDP per capita'\n",
    "# happy_data.sort_values(by=['col'])\n",
    "\n",
    "\n"
   ]
  }
 ],
 "metadata": {
  "kernelspec": {
   "display_name": "Python 3",
   "language": "python",
   "name": "python3"
  },
  "language_info": {
   "codemirror_mode": {
    "name": "ipython",
    "version": 3
   },
   "file_extension": ".py",
   "mimetype": "text/x-python",
   "name": "python",
   "nbconvert_exporter": "python",
   "pygments_lexer": "ipython3",
   "version": "3.8.8"
  }
 },
 "nbformat": 4,
 "nbformat_minor": 5
}
