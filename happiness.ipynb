{
 "cells": [
  {
   "cell_type": "code",
   "execution_count": null,
   "id": "1bfea243",
   "metadata": {},
   "outputs": [],
   "source": [
    "import matplotlib.pyplot as plt\n",
    "import pandas as pd\n",
    "import numpy as np\n",
    "import requests\n",
    "import scipy.stats as st\n",
    "from scipy.stats import linregress"
   ]
  },
  {
   "cell_type": "code",
   "execution_count": null,
   "id": "c37256c4",
   "metadata": {},
   "outputs": [],
   "source": [
    "file = \"output/merged_data.csv\"\n",
    "happy_data = pd.read_csv(file)\n",
    "happy_data.head()"
   ]
  },
  {
   "cell_type": "markdown",
   "id": "8ffde618",
   "metadata": {},
   "source": [
    "# Of the factors that contribute to happiness scores, which best predict a country’s happiness score?"
   ]
  },
  {
   "cell_type": "code",
   "execution_count": null,
   "id": "77d62ac6",
   "metadata": {},
   "outputs": [],
   "source": [
    "# Life expectancy vs. Happiness\n",
    "xval=happy_data['Healthy life expectancy']\n",
    "yval=happy_data['Score']\n",
    "plt.scatter(xval, yval)\n",
    "plt.xlabel('Healthy Life Excpectancy')\n",
    "plt.ylabel('Happiness Score')\n",
    "plt.title('Healthy Life Expectancy vs Happiness')\n",
    "plt.xlim([0,1.2])\n",
    "plt.ylim([0,8])\n",
    "plt.show()"
   ]
  },
  {
   "cell_type": "code",
   "execution_count": null,
   "id": "2236ba88",
   "metadata": {},
   "outputs": [],
   "source": [
    "# Workforce gender ratio vs happiness\n",
    "xval=happy_data['Workforce Gender Ratio']\n",
    "yval=happy_data['Score']\n",
    "plt.scatter(xval, yval)\n",
    "plt.xlabel('Workforce Gender Ratio (# of females per 100 males)')\n",
    "plt.ylabel('Happiness Score')\n",
    "plt.title('Workforce Gender Ratio vs Happiness')\n",
    "plt.xlim([0,110])\n",
    "plt.ylim([0,8])\n",
    "plt.show()"
   ]
  },
  {
   "cell_type": "code",
   "execution_count": null,
   "id": "92bc3d12",
   "metadata": {},
   "outputs": [],
   "source": [
    "# Freedom to make life choices vs. Happiness\n",
    "xval=happy_data['Freedom to make life choices']\n",
    "yval=happy_data['Score']\n",
    "plt.scatter(xval, yval)\n",
    "plt.xlabel('Freedom To Make Life Choices')\n",
    "plt.ylabel('Happiness Score')\n",
    "plt.title('Freedom To Make Life Choices vs Happiness')\n",
    "plt.xlim([-0.05,0.7])\n",
    "plt.ylim([0,8])\n",
    "plt.show()"
   ]
  },
  {
   "cell_type": "code",
   "execution_count": null,
   "id": "4df8ec05",
   "metadata": {},
   "outputs": [],
   "source": [
    "# Generosity vs Happiness\n",
    "xval=happy_data['Generosity']\n",
    "yval=happy_data['Score']\n",
    "plt.scatter(xval, yval)\n",
    "plt.xlabel('Generosity')\n",
    "plt.ylabel('Happiness Score')\n",
    "plt.title('Generosity vs Happiness')\n",
    "plt.xlim([-0.05,0.6])\n",
    "plt.ylim([0,8])\n",
    "plt.show()"
   ]
  },
  {
   "cell_type": "code",
   "execution_count": null,
   "id": "312df8dc",
   "metadata": {},
   "outputs": [],
   "source": [
    "# GDP per capita vs World Happiness\n",
    "xval=happy_data['GDP per capita']\n",
    "yval=happy_data['Score']\n",
    "plt.scatter(xval, yval)\n",
    "plt.xlabel('GDP per Capita')\n",
    "plt.ylabel('Happiness Score')\n",
    "plt.title('GDP per capita vs Happiness')\n",
    "plt.xlim([-0.05,1.75])\n",
    "plt.ylim([0,8])\n",
    "plt.show()"
   ]
  },
  {
   "cell_type": "code",
   "execution_count": null,
   "id": "b306efa9",
   "metadata": {},
   "outputs": [],
   "source": [
    "# Social support vs Happiness\n",
    "xval=happy_data['Social support']\n",
    "yval=happy_data['Score']\n",
    "plt.scatter(xval, yval)\n",
    "plt.xlabel('Social Support')\n",
    "plt.ylabel('Happiness Score')\n",
    "plt.title('Social Support vs Happiness')\n",
    "plt.xlim([-0.05,1.7])\n",
    "plt.ylim([0,8])\n",
    "plt.show()"
   ]
  },
  {
   "cell_type": "code",
   "execution_count": null,
   "id": "372919ef",
   "metadata": {},
   "outputs": [],
   "source": [
    "# Perception of corruption vs Happiness\n",
    "xval=happy_data['Perceptions of corruption']\n",
    "yval=happy_data['Score']\n",
    "plt.scatter(xval, yval)\n",
    "plt.xlabel('Perception of Corruption')\n",
    "plt.ylabel('Happiness Score')\n",
    "plt.title('Perception of Corruption vs Happiness')\n",
    "plt.xlim([-0.05,0.5])\n",
    "plt.ylim([0,8])\n",
    "plt.show()"
   ]
  },
  {
   "cell_type": "code",
   "execution_count": null,
   "id": "97a9ddfa",
   "metadata": {},
   "outputs": [],
   "source": [
    "# Calculate the r values to indentify the strongest correlation\n",
    "r_values = pd.DataFrame(columns=['variable','r'])\n",
    "variables = ['gdp', 'ss','hlt','free','gen','corrupt','gender']\n",
    "r_values['variable'] = variables\n",
    "\n",
    "gdp_r = st.pearsonr(happy_data['GDP per capita'],happy_data['Score'])\n",
    "ss_r = st.pearsonr(happy_data['Social support'],happy_data['Score'])\n",
    "hlt_r = st.pearsonr(happy_data['Healthy life expectancy'],happy_data['Score'])\n",
    "free_r = st.pearsonr(happy_data['Freedom to make life choices'],happy_data['Score'])\n",
    "gen_r = st.pearsonr(happy_data['Generosity'],happy_data['Score'])\n",
    "corrupt_r = st.pearsonr(happy_data['Perceptions of corruption'],happy_data['Score'])\n",
    "gender_r = st.pearsonr(happy_data['Workforce Gender Ratio'],happy_data['Score'])\n",
    "\n",
    "rVals = [gdp_r[0],ss_r[0],hlt_r[0],free_r[0],gen_r[0],corrupt_r[0],gender_r[0]]\n",
    "r_values['r']=rVals\n",
    "r_values"
   ]
  },
  {
   "cell_type": "code",
   "execution_count": null,
   "id": "ce36d1e1",
   "metadata": {},
   "outputs": [],
   "source": [
    "# ANOVA test on GDP per capita, split into three groups (lowest, middle, highest)\n",
    "gdp_df = happy_data[['Country', 'Score', 'GDP per capita']]\n",
    "xvalue = happy_data['GDP per capita']\n",
    "sorted_gdp = gdp_df.sort_values('GDP per capita')\n",
    "sorted_gdp\n",
    "\n",
    "# bin GDP into 3 groups \n",
    "low_gdp = sorted_gdp.iloc[:45,:]\n",
    "med_gdp = sorted_gdp.iloc[45:90,:]\n",
    "high_gdp = sorted_gdp.iloc[90:,:]\n",
    "\n",
    "\n",
    "# ANOVA on happy scores within each group\n",
    "all_gdps = st.f_oneway(high_gdp['Score'], med_gdp['Score'], low_gdp['Score'])\n",
    "high_v_med = st.f_oneway(high_gdp['Score'], med_gdp['Score'])\n",
    "med_v_low = st.f_oneway(low_gdp['Score'], med_gdp['Score'])\n",
    "high_v_low = st.f_oneway(high_gdp['Score'], low_gdp['Score'])\n",
    "\n",
    "p_values = pd.DataFrame(columns=['Variables Tested','p-value'])\n",
    "variables = ['All GDPs', 'High v Med','Med v Low','High v Low']\n",
    "p_values['Variables Tested'] = variables\n",
    "p_values['p-value'] = [all_gdps[1], high_v_med[1], med_v_low[1], high_v_low[1]]\n",
    "\n",
    "p_values"
   ]
  },
  {
   "cell_type": "code",
   "execution_count": null,
   "id": "b82f191b",
   "metadata": {},
   "outputs": [],
   "source": [
    "# Boxplots of happiness scores sorted by GDP per capita\n",
    "labels = ['Lowest GDPs', 'Middle GDPs', 'Highest GDPs']\n",
    "plt.boxplot([low_gdp['Score'], med_gdp['Score'], high_gdp['Score']], labels = labels)\n",
    "plt.ylabel('Happiness Score')\n",
    "plt.title('Happiness Scores grouped by GDP per capita')\n",
    "plt.ylim([0,8])\n",
    "plt.show()"
   ]
  },
  {
   "cell_type": "code",
   "execution_count": null,
   "id": "ae7dd577",
   "metadata": {},
   "outputs": [],
   "source": [
    "low_gdp"
   ]
  },
  {
   "cell_type": "markdown",
   "id": "742b5141",
   "metadata": {},
   "source": [
    "# How does the ratio of females to males in the workforce correlate with a country’s GDP?"
   ]
  },
  {
   "cell_type": "code",
   "execution_count": null,
   "id": "4f050014",
   "metadata": {},
   "outputs": [],
   "source": [
    "# Scatterplot of GDP per capita vs Workforce Gender Ratio\n",
    "xval=happy_data['GDP per capita']\n",
    "yval=happy_data['Workforce Gender Ratio']\n",
    "plt.scatter(xval,yval)\n",
    "plt.title('GDP per capita vs Workforce Gender Ratio')\n",
    "plt.xlabel('GDP per capita')\n",
    "plt.ylabel('Workforce Gender Ratio (# of females per 100 males)')\n",
    "plt.ylim([0,110])\n",
    "plt.show()\n",
    "\n",
    "gdp_and_workforce_rval = st.pearsonr(xval,yval)\n",
    "print(f\"The correlation coefficient is {gdp_and_workforce_rval[0]}, suggesting there is no correlation.\")"
   ]
  },
  {
   "cell_type": "code",
   "execution_count": null,
   "id": "4b462246",
   "metadata": {},
   "outputs": [],
   "source": [
    "# GDP vs workforce ratio pie charts\n",
    "# country with the highest GDP per capita\n",
    "gdp_max = happy_data.loc[happy_data['GDP per capita'] == happy_data['GDP per capita'].max()]\n",
    "num_female = gdp_max['Workforce Gender Ratio']\n",
    "num_male = 100\n",
    "\n",
    "colors=['purple', 'green']\n",
    "labels=['Female','Male']\n",
    "title='Workforce Gender Ratio in the country with the highest GDP per capita (Qatar)'\n",
    "plt.pie([num_female,num_male], colors=colors, labels=labels, autopct='%1.1f%%')\n",
    "plt.title(title)\n",
    "plt.show()"
   ]
  },
  {
   "cell_type": "code",
   "execution_count": null,
   "id": "e9c68400",
   "metadata": {},
   "outputs": [],
   "source": [
    "# Country with the lowest GDP per capita\n",
    "gdp_min = happy_data.loc[happy_data['GDP per capita'] == happy_data['GDP per capita'].min()]\n",
    "\n",
    "num_female = gdp_min['Workforce Gender Ratio']\n",
    "num_male = 100\n",
    "\n",
    "colors=['purple', 'green']\n",
    "labels=['Female','Male']\n",
    "title='Workforce Gender Ratio in the country with the lowest GDP per capita (Somalia)'\n",
    "plt.pie([num_female,num_male], colors=colors, labels=labels, autopct='%1.1f%%')\n",
    "plt.title(title)\n",
    "plt.show()"
   ]
  },
  {
   "cell_type": "markdown",
   "id": "ecade333",
   "metadata": {},
   "source": [
    "# How does perceived government corruption relate to freedom to make life choices?"
   ]
  },
  {
   "cell_type": "code",
   "execution_count": null,
   "id": "63adb281",
   "metadata": {},
   "outputs": [],
   "source": [
    "# Distribution of perceptions of corruption \n",
    "happy_data.hist('Perceptions of corruption')\n",
    "plt.xlabel('Perceived Corruption Score')\n",
    "plt.ylabel('Country Count')\n",
    "plt.savefig('output/corrupt_histogram.png')"
   ]
  },
  {
   "cell_type": "code",
   "execution_count": null,
   "id": "1d3bf5a5",
   "metadata": {},
   "outputs": [],
   "source": [
    "# Distribution of the variable freedom to make life choices\n",
    "happy_data.hist('Freedom to make life choices')\n",
    "plt.show()"
   ]
  },
  {
   "cell_type": "code",
   "execution_count": null,
   "id": "04eb728d",
   "metadata": {},
   "outputs": [],
   "source": [
    "# Linear regression of freedom to make life choices and perceptions of corruption\n",
    "xval=happy_data['Freedom to make life choices']\n",
    "yval=happy_data['Perceptions of corruption']\n",
    "\n",
    "slope, intercept, rval, pval, std_err = linregress(xval, yval)\n",
    "regress_values = xval * slope + intercept\n",
    "line_eq = \"y = \" + str(round(slope,2)) + \"x + \" + str(round(intercept,2))\n",
    "\n",
    "plt.scatter(xval,yval)\n",
    "plt.plot(xval,regress_values,\"r-\")\n",
    "plt.annotate(line_eq,(0,0.4),fontsize=15,color=\"red\")\n",
    "plt.xlabel('Freedom to make life choices')\n",
    "plt.ylabel('Perceptions of corruption')\n",
    "plt.title('Freedom to make life choices vs Perceptions of corruption')\n",
    "plt.show()"
   ]
  },
  {
   "cell_type": "code",
   "execution_count": null,
   "id": "99ec38fa",
   "metadata": {},
   "outputs": [],
   "source": []
  },
  {
   "cell_type": "code",
   "execution_count": null,
   "id": "750d584e",
   "metadata": {},
   "outputs": [],
   "source": []
  }
 ],
 "metadata": {
  "kernelspec": {
   "display_name": "Python 3",
   "language": "python",
   "name": "python3"
  },
  "language_info": {
   "codemirror_mode": {
    "name": "ipython",
    "version": 3
   },
   "file_extension": ".py",
   "mimetype": "text/x-python",
   "name": "python",
   "nbconvert_exporter": "python",
   "pygments_lexer": "ipython3",
   "version": "3.8.8"
  }
 },
 "nbformat": 4,
 "nbformat_minor": 5
}
