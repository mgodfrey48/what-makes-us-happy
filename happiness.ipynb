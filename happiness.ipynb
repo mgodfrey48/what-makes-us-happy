{
 "cells": [
  {
   "cell_type": "code",
   "execution_count": 52,
   "id": "1bfea243",
   "metadata": {},
   "outputs": [],
   "source": [
    "import matplotlib.pyplot as plt\n",
    "import pandas as pd\n",
    "import numpy as np\n",
    "import requests\n",
    "import scipy.stats as st\n",
    "from scipy.stats import linregress"
   ]
  },
  {
   "cell_type": "code",
   "execution_count": 9,
   "id": "c37256c4",
   "metadata": {},
   "outputs": [
    {
     "data": {
      "text/html": [
       "<div>\n",
       "<style scoped>\n",
       "    .dataframe tbody tr th:only-of-type {\n",
       "        vertical-align: middle;\n",
       "    }\n",
       "\n",
       "    .dataframe tbody tr th {\n",
       "        vertical-align: top;\n",
       "    }\n",
       "\n",
       "    .dataframe thead th {\n",
       "        text-align: right;\n",
       "    }\n",
       "</style>\n",
       "<table border=\"1\" class=\"dataframe\">\n",
       "  <thead>\n",
       "    <tr style=\"text-align: right;\">\n",
       "      <th></th>\n",
       "      <th>Country</th>\n",
       "      <th>Score</th>\n",
       "      <th>GDP per capita</th>\n",
       "      <th>Social support</th>\n",
       "      <th>Healthy life expectancy</th>\n",
       "      <th>Freedom to make life choices</th>\n",
       "      <th>Generosity</th>\n",
       "      <th>Perceptions of corruption</th>\n",
       "      <th>Workforce Gender Ratio</th>\n",
       "    </tr>\n",
       "  </thead>\n",
       "  <tbody>\n",
       "    <tr>\n",
       "      <th>0</th>\n",
       "      <td>Finland</td>\n",
       "      <td>7.769</td>\n",
       "      <td>1.340</td>\n",
       "      <td>1.587</td>\n",
       "      <td>0.986</td>\n",
       "      <td>0.596</td>\n",
       "      <td>0.153</td>\n",
       "      <td>0.393</td>\n",
       "      <td>88.474361</td>\n",
       "    </tr>\n",
       "    <tr>\n",
       "      <th>1</th>\n",
       "      <td>Denmark</td>\n",
       "      <td>7.600</td>\n",
       "      <td>1.383</td>\n",
       "      <td>1.573</td>\n",
       "      <td>0.996</td>\n",
       "      <td>0.592</td>\n",
       "      <td>0.252</td>\n",
       "      <td>0.410</td>\n",
       "      <td>86.841710</td>\n",
       "    </tr>\n",
       "    <tr>\n",
       "      <th>2</th>\n",
       "      <td>Norway</td>\n",
       "      <td>7.554</td>\n",
       "      <td>1.488</td>\n",
       "      <td>1.582</td>\n",
       "      <td>1.028</td>\n",
       "      <td>0.603</td>\n",
       "      <td>0.271</td>\n",
       "      <td>0.341</td>\n",
       "      <td>89.749667</td>\n",
       "    </tr>\n",
       "    <tr>\n",
       "      <th>3</th>\n",
       "      <td>Iceland</td>\n",
       "      <td>7.494</td>\n",
       "      <td>1.380</td>\n",
       "      <td>1.624</td>\n",
       "      <td>1.026</td>\n",
       "      <td>0.591</td>\n",
       "      <td>0.354</td>\n",
       "      <td>0.118</td>\n",
       "      <td>89.450885</td>\n",
       "    </tr>\n",
       "    <tr>\n",
       "      <th>4</th>\n",
       "      <td>Netherlands</td>\n",
       "      <td>7.488</td>\n",
       "      <td>1.396</td>\n",
       "      <td>1.522</td>\n",
       "      <td>0.999</td>\n",
       "      <td>0.557</td>\n",
       "      <td>0.322</td>\n",
       "      <td>0.298</td>\n",
       "      <td>84.757937</td>\n",
       "    </tr>\n",
       "  </tbody>\n",
       "</table>\n",
       "</div>"
      ],
      "text/plain": [
       "       Country  Score  GDP per capita  Social support  \\\n",
       "0      Finland  7.769           1.340           1.587   \n",
       "1      Denmark  7.600           1.383           1.573   \n",
       "2       Norway  7.554           1.488           1.582   \n",
       "3      Iceland  7.494           1.380           1.624   \n",
       "4  Netherlands  7.488           1.396           1.522   \n",
       "\n",
       "   Healthy life expectancy  Freedom to make life choices  Generosity  \\\n",
       "0                    0.986                         0.596       0.153   \n",
       "1                    0.996                         0.592       0.252   \n",
       "2                    1.028                         0.603       0.271   \n",
       "3                    1.026                         0.591       0.354   \n",
       "4                    0.999                         0.557       0.322   \n",
       "\n",
       "   Perceptions of corruption  Workforce Gender Ratio  \n",
       "0                      0.393               88.474361  \n",
       "1                      0.410               86.841710  \n",
       "2                      0.341               89.749667  \n",
       "3                      0.118               89.450885  \n",
       "4                      0.298               84.757937  "
      ]
     },
     "execution_count": 9,
     "metadata": {},
     "output_type": "execute_result"
    }
   ],
   "source": [
    "file = \"output/merged_data.csv\"\n",
    "happy_data = pd.read_csv(file)\n",
    "happy_data.head()"
   ]
  },
  {
   "cell_type": "code",
   "execution_count": 14,
   "id": "77d62ac6",
   "metadata": {},
   "outputs": [
    {
     "data": {
      "text/plain": [
       "<matplotlib.collections.PathCollection at 0x7fa87044d1c0>"
      ]
     },
     "execution_count": 14,
     "metadata": {},
     "output_type": "execute_result"
    },
    {
     "data": {
      "image/png": "[encoded data removed]",
      "text/plain": [
       "<Figure size 432x288 with 1 Axes>"
      ]
     },
     "metadata": {
      "needs_background": "light"
     },
     "output_type": "display_data"
    }
   ],
   "source": [
    "#xval=happy_data['Workforce Gender Ratio']\n",
    "#xval=happy_data['Freedom to make life choices']\n",
    "#xval=happy_data['Generosity']\n",
    "xval=happy_data['Healthy life expectancy']\n",
    "#val=happy_data['GDP per capita']\n",
    "#xval=happy_data['Social support']\n",
    "#xval=happy_data['Perceptions of corruption']\n",
    "yval=happy_data['Score']\n",
    "plt.scatter(xval, yval)"
   ]
  },
  {
   "cell_type": "code",
   "execution_count": 64,
   "id": "97a9ddfa",
   "metadata": {},
   "outputs": [
    {
     "data": {
      "text/html": [
       "<div>\n",
       "<style scoped>\n",
       "    .dataframe tbody tr th:only-of-type {\n",
       "        vertical-align: middle;\n",
       "    }\n",
       "\n",
       "    .dataframe tbody tr th {\n",
       "        vertical-align: top;\n",
       "    }\n",
       "\n",
       "    .dataframe thead th {\n",
       "        text-align: right;\n",
       "    }\n",
       "</style>\n",
       "<table border=\"1\" class=\"dataframe\">\n",
       "  <thead>\n",
       "    <tr style=\"text-align: right;\">\n",
       "      <th></th>\n",
       "      <th>variable</th>\n",
       "      <th>r</th>\n",
       "    </tr>\n",
       "  </thead>\n",
       "  <tbody>\n",
       "    <tr>\n",
       "      <th>0</th>\n",
       "      <td>gdp</td>\n",
       "      <td>0.809406</td>\n",
       "    </tr>\n",
       "    <tr>\n",
       "      <th>1</th>\n",
       "      <td>ss</td>\n",
       "      <td>0.790806</td>\n",
       "    </tr>\n",
       "    <tr>\n",
       "      <th>2</th>\n",
       "      <td>hlt</td>\n",
       "      <td>0.804624</td>\n",
       "    </tr>\n",
       "    <tr>\n",
       "      <th>3</th>\n",
       "      <td>free</td>\n",
       "      <td>0.557619</td>\n",
       "    </tr>\n",
       "    <tr>\n",
       "      <th>4</th>\n",
       "      <td>gen</td>\n",
       "      <td>0.074800</td>\n",
       "    </tr>\n",
       "    <tr>\n",
       "      <th>5</th>\n",
       "      <td>corrupt</td>\n",
       "      <td>0.431120</td>\n",
       "    </tr>\n",
       "    <tr>\n",
       "      <th>6</th>\n",
       "      <td>gender</td>\n",
       "      <td>0.029835</td>\n",
       "    </tr>\n",
       "  </tbody>\n",
       "</table>\n",
       "</div>"
      ],
      "text/plain": [
       "  variable         r\n",
       "0      gdp  0.809406\n",
       "1       ss  0.790806\n",
       "2      hlt  0.804624\n",
       "3     free  0.557619\n",
       "4      gen  0.074800\n",
       "5  corrupt  0.431120\n",
       "6   gender  0.029835"
      ]
     },
     "execution_count": 64,
     "metadata": {},
     "output_type": "execute_result"
    }
   ],
   "source": [
    "r_values = pd.DataFrame(columns=['variable','r'])\n",
    "variables = ['gdp', 'ss','hlt','free','gen','corrupt','gender']\n",
    "r_values['variable'] = variables\n",
    "\n",
    "gdp_r = st.pearsonr(happy_data['GDP per capita'],happy_data['Score'])\n",
    "ss_r = st.pearsonr(happy_data['Social support'],happy_data['Score'])\n",
    "hlt_r = st.pearsonr(happy_data['Healthy life expectancy'],happy_data['Score'])\n",
    "free_r = st.pearsonr(happy_data['Freedom to make life choices'],happy_data['Score'])\n",
    "gen_r = st.pearsonr(happy_data['Generosity'],happy_data['Score'])\n",
    "corrupt_r = st.pearsonr(happy_data['Perceptions of corruption'],happy_data['Score'])\n",
    "gender_r = st.pearsonr(happy_data['Workforce Gender Ratio'],happy_data['Score'])\n",
    "\n",
    "rVals = [gdp_r[0],ss_r[0],hlt_r[0],free_r[0],gen_r[0],corrupt_r[0],gender_r[0]]\n",
    "r_values['r']=rVals\n",
    "r_values"
   ]
  },
  {
   "cell_type": "markdown",
   "id": "29e79ba8",
   "metadata": {},
   "source": [
    "## TO DO"
   ]
  },
  {
   "cell_type": "code",
   "execution_count": null,
   "id": "23ed1651",
   "metadata": {},
   "outputs": [],
   "source": [
    "#1 7 scatter plots for each var vs happy score\n",
    "# re-word hypothesis"
   ]
  },
  {
   "cell_type": "code",
   "execution_count": null,
   "id": "ce36d1e1",
   "metadata": {},
   "outputs": [],
   "source": [
    "# ANOVA test\n",
    "\n",
    "# GDP = x value\n",
    "# sort by GDP\n",
    "# bin GDP into 3 groups: high gdp, med gdp, low gdp\n",
    "\n",
    "# ANOVA on happy scores within each group\n",
    "# stats.f_oneway(high, med, low)\n",
    "# pVal < 0.05?"
   ]
  },
  {
   "cell_type": "code",
   "execution_count": null,
   "id": "b5f3cf42",
   "metadata": {},
   "outputs": [],
   "source": [
    "# 3 scatter plot corruption vs freedom\n",
    "# linear regression \n",
    "\n"
   ]
  },
  {
   "cell_type": "code",
   "execution_count": 20,
   "id": "4f050014",
   "metadata": {},
   "outputs": [
    {
     "data": {
      "text/plain": [
       "<matplotlib.collections.PathCollection at 0x7fa861434640>"
      ]
     },
     "execution_count": 20,
     "metadata": {},
     "output_type": "execute_result"
    },
    {
     "data": {
      "image/png": "[encoded data removed]",
      "text/plain": [
       "<Figure size 432x288 with 1 Axes>"
      ]
     },
     "metadata": {
      "needs_background": "light"
     },
     "output_type": "display_data"
    }
   ],
   "source": [
    "xval=happy_data['GDP per capita']\n",
    "yval=happy_data['Workforce Gender Ratio']\n",
    "plt.scatter(xval,yval)"
   ]
  },
  {
   "cell_type": "code",
   "execution_count": 18,
   "id": "d8451bb6",
   "metadata": {},
   "outputs": [
    {
     "data": {
      "text/plain": [
       "<matplotlib.collections.PathCollection at 0x7fa8613bd0d0>"
      ]
     },
     "execution_count": 18,
     "metadata": {},
     "output_type": "execute_result"
    },
    {
     "data": {
      "image/png": "[encoded data removed]",
      "text/plain": [
       "<Figure size 432x288 with 1 Axes>"
      ]
     },
     "metadata": {
      "needs_background": "light"
     },
     "output_type": "display_data"
    }
   ],
   "source": [
    "xval=happy_data['Generosity']\n",
    "yval=happy_data['Social support']\n",
    "plt.scatter(yval,xval)"
   ]
  },
  {
   "cell_type": "code",
   "execution_count": 21,
   "id": "04eb728d",
   "metadata": {},
   "outputs": [
    {
     "data": {
      "text/plain": [
       "<matplotlib.collections.PathCollection at 0x7fa8614960a0>"
      ]
     },
     "execution_count": 21,
     "metadata": {},
     "output_type": "execute_result"
    },
    {
     "data": {
      "image/png": "[encoded data removed]",
      "text/plain": [
       "<Figure size 432x288 with 1 Axes>"
      ]
     },
     "metadata": {
      "needs_background": "light"
     },
     "output_type": "display_data"
    }
   ],
   "source": [
    "xval=happy_data['Freedom to make life choices']\n",
    "yval=happy_data['Perceptions of corruption']\n",
    "plt.scatter(xval,yval)"
   ]
  },
  {
   "cell_type": "code",
   "execution_count": 30,
   "id": "63adb281",
   "metadata": {},
   "outputs": [
    {
     "data": {
      "image/png": "[encoded data removed]",
      "text/plain": [
       "<Figure size 432x288 with 1 Axes>"
      ]
     },
     "metadata": {
      "needs_background": "light"
     },
     "output_type": "display_data"
    }
   ],
   "source": [
    "# Perception of corruption: histogram, scatter plot corruption vs freedom\n",
    "\n",
    "# xval=happy_data['Country']\n",
    "# yval=happy_data['Perceptions of corruption']\n",
    "# plt.bar(xval, yval)\n",
    "\n",
    "happy_data.hist('Perceptions of corruption')\n",
    "plt.xlabel('Perceived Corruption Score')\n",
    "plt.ylabel('Country Count')\n",
    "plt.savefig('output/corrupt_histogram.png')"
   ]
  },
  {
   "cell_type": "code",
   "execution_count": 25,
   "id": "1d3bf5a5",
   "metadata": {},
   "outputs": [
    {
     "data": {
      "text/plain": [
       "array([[<AxesSubplot:title={'center':'Freedom to make life choices'}>]],\n",
       "      dtype=object)"
      ]
     },
     "execution_count": 25,
     "metadata": {},
     "output_type": "execute_result"
    },
    {
     "data": {
      "image/png": "[encoded data removed]",
      "text/plain": [
       "<Figure size 432x288 with 1 Axes>"
      ]
     },
     "metadata": {
      "needs_background": "light"
     },
     "output_type": "display_data"
    }
   ],
   "source": [
    "happy_data.hist('Freedom to make life choices')\n"
   ]
  },
  {
   "cell_type": "code",
   "execution_count": 31,
   "id": "99ec38fa",
   "metadata": {},
   "outputs": [
    {
     "data": {
      "text/plain": [
       "135"
      ]
     },
     "execution_count": 31,
     "metadata": {},
     "output_type": "execute_result"
    }
   ],
   "source": [
    "len(happy_data)"
   ]
  },
  {
   "cell_type": "code",
   "execution_count": 50,
   "id": "4b462246",
   "metadata": {},
   "outputs": [
    {
     "data": {
      "image/png": "[encoded data removed]",
      "text/plain": [
       "<Figure size 432x288 with 1 Axes>"
      ]
     },
     "metadata": {},
     "output_type": "display_data"
    }
   ],
   "source": [
    "# GDP vs workforce ratio\n",
    "\n",
    "# richest country\n",
    "gdp_max = happy_data.loc[happy_data['GDP per capita'] == happy_data['GDP per capita'].max()]\n",
    "num_female = gdp_max['Workforce Gender Ratio']\n",
    "num_male = 100\n",
    "\n",
    "colors=['purple', 'green']\n",
    "labels=['Female','Male']\n",
    "title='Workforce Gender Ratio in Richest Country'\n",
    "plt.pie([num_female,num_male], colors=colors, labels=labels, autopct='%1.1f%%')\n",
    "plt.title(title)\n",
    "plt.show()"
   ]
  },
  {
   "cell_type": "code",
   "execution_count": 51,
   "id": "e9c68400",
   "metadata": {},
   "outputs": [
    {
     "data": {
      "image/png": "[encoded data removed]",
      "text/plain": [
       "<Figure size 432x288 with 1 Axes>"
      ]
     },
     "metadata": {},
     "output_type": "display_data"
    }
   ],
   "source": [
    "# poorest country\n",
    "\n",
    "gdp_min = happy_data.loc[happy_data['GDP per capita'] == happy_data['GDP per capita'].min()]\n",
    "\n",
    "num_female = gdp_min['Workforce Gender Ratio']\n",
    "num_male = 100\n",
    "\n",
    "colors=['purple', 'green']\n",
    "labels=['Female','Male']\n",
    "title='Workforce Gender Ratio in Poorest Country'\n",
    "plt.pie([num_female,num_male], colors=colors, labels=labels, autopct='%1.1f%%')\n",
    "plt.title(title)\n",
    "plt.show()"
   ]
  },
  {
   "cell_type": "code",
   "execution_count": null,
   "id": "750d584e",
   "metadata": {},
   "outputs": [],
   "source": []
  }
 ],
 "metadata": {
  "kernelspec": {
   "display_name": "Python 3",
   "language": "python",
   "name": "python3"
  },
  "language_info": {
   "codemirror_mode": {
    "name": "ipython",
    "version": 3
   },
   "file_extension": ".py",
   "mimetype": "text/x-python",
   "name": "python",
   "nbconvert_exporter": "python",
   "pygments_lexer": "ipython3",
   "version": "3.8.8"
  }
 },
 "nbformat": 4,
 "nbformat_minor": 5
}
