{
 "cells": [
  {
   "cell_type": "code",
   "execution_count": null,
   "id": "1bfea243",
   "metadata": {},
   "outputs": [],
   "source": [
    "import matplotlib.pyplot as plt\n",
    "import pandas as pd\n",
    "import numpy as np\n",
    "import requests\n",
    "import scipy.stats as st\n",
    "from scipy.stats import linregress"
   ]
  },
  {
   "cell_type": "code",
   "execution_count": null,
   "id": "c37256c4",
   "metadata": {},
   "outputs": [],
   "source": [
    "file = \"output/merged_data.csv\"\n",
    "happy_data = pd.read_csv(file)\n",
    "happy_data.head()"
   ]
  },
  {
   "cell_type": "code",
   "execution_count": null,
   "id": "77d62ac6",
   "metadata": {},
   "outputs": [],
   "source": [
    "#xval=happy_data['Workforce Gender Ratio']\n",
    "#xval=happy_data['Freedom to make life choices']\n",
    "#xval=happy_data['Generosity']\n",
    "xval=happy_data['Healthy life expectancy']\n",
    "#val=happy_data['GDP per capita']\n",
    "#xval=happy_data['Social support']\n",
    "#xval=happy_data['Perceptions of corruption']\n",
    "yval=happy_data['Score']\n",
    "plt.scatter(xval, yval)"
   ]
  },
  {
   "cell_type": "code",
   "execution_count": null,
   "id": "97a9ddfa",
   "metadata": {},
   "outputs": [],
   "source": [
    "r_values = pd.DataFrame(columns=['variable','r'])\n",
    "variables = ['gdp', 'ss','hlt','free','gen','corrupt','gender']\n",
    "r_values['variable'] = variables\n",
    "\n",
    "gdp_r = st.pearsonr(happy_data['GDP per capita'],happy_data['Score'])\n",
    "ss_r = st.pearsonr(happy_data['Social support'],happy_data['Score'])\n",
    "hlt_r = st.pearsonr(happy_data['Healthy life expectancy'],happy_data['Score'])\n",
    "free_r = st.pearsonr(happy_data['Freedom to make life choices'],happy_data['Score'])\n",
    "gen_r = st.pearsonr(happy_data['Generosity'],happy_data['Score'])\n",
    "corrupt_r = st.pearsonr(happy_data['Perceptions of corruption'],happy_data['Score'])\n",
    "gender_r = st.pearsonr(happy_data['Workforce Gender Ratio'],happy_data['Score'])\n",
    "\n",
    "rVals = [gdp_r[0],ss_r[0],hlt_r[0],free_r[0],gen_r[0],corrupt_r[0],gender_r[0]]\n",
    "r_values['r']=rVals\n",
    "r_values"
   ]
  },
  {
   "cell_type": "markdown",
   "id": "29e79ba8",
   "metadata": {},
   "source": [
    "## TO DO"
   ]
  },
  {
   "cell_type": "code",
   "execution_count": null,
   "id": "23ed1651",
   "metadata": {},
   "outputs": [],
   "source": [
    "#1 7 scatter plots for each var vs happy score\n",
    "# re-word hypothesis"
   ]
  },
  {
   "cell_type": "code",
   "execution_count": null,
   "id": "ce36d1e1",
   "metadata": {},
   "outputs": [],
   "source": [
    "# ANOVA test\n",
    "\n",
    "# GDP = x value\n",
    "# sort by GDP\n",
    "# bin GDP into 3 groups: high gdp, med gdp, low gdp\n",
    "\n",
    "# ANOVA on happy scores within each group\n",
    "# stats.f_oneway(high, med, low)\n",
    "# pVal < 0.05?"
   ]
  },
  {
   "cell_type": "code",
   "execution_count": null,
   "id": "b5f3cf42",
   "metadata": {},
   "outputs": [],
   "source": [
    "# 3 scatter plot corruption vs freedom\n",
    "# linear regression \n",
    "\n"
   ]
  },
  {
   "cell_type": "code",
   "execution_count": null,
   "id": "4f050014",
   "metadata": {},
   "outputs": [],
   "source": [
    "xval=happy_data['GDP per capita']\n",
    "yval=happy_data['Workforce Gender Ratio']\n",
    "plt.scatter(xval,yval)"
   ]
  },
  {
   "cell_type": "code",
   "execution_count": null,
   "id": "d8451bb6",
   "metadata": {},
   "outputs": [],
   "source": [
    "xval=happy_data['Generosity']\n",
    "yval=happy_data['Social support']\n",
    "plt.scatter(yval,xval)"
   ]
  },
  {
   "cell_type": "code",
   "execution_count": null,
   "id": "04eb728d",
   "metadata": {},
   "outputs": [],
   "source": [
    "xval=happy_data['Freedom to make life choices']\n",
    "yval=happy_data['Perceptions of corruption']\n",
    "plt.scatter(xval,yval)"
   ]
  },
  {
   "cell_type": "code",
   "execution_count": null,
   "id": "63adb281",
   "metadata": {},
   "outputs": [],
   "source": [
    "# Perception of corruption: histogram, scatter plot corruption vs freedom\n",
    "\n",
    "# xval=happy_data['Country']\n",
    "# yval=happy_data['Perceptions of corruption']\n",
    "# plt.bar(xval, yval)\n",
    "\n",
    "happy_data.hist('Perceptions of corruption')\n",
    "plt.xlabel('Perceived Corruption Score')\n",
    "plt.ylabel('Country Count')\n",
    "plt.savefig('output/corrupt_histogram.png')"
   ]
  },
  {
   "cell_type": "code",
   "execution_count": null,
   "id": "1d3bf5a5",
   "metadata": {},
   "outputs": [],
   "source": [
    "happy_data.hist('Freedom to make life choices')\n"
   ]
  },
  {
   "cell_type": "code",
   "execution_count": null,
   "id": "99ec38fa",
   "metadata": {},
   "outputs": [],
   "source": [
    "len(happy_data)"
   ]
  },
  {
   "cell_type": "code",
   "execution_count": null,
   "id": "4b462246",
   "metadata": {},
   "outputs": [],
   "source": [
    "# GDP vs workforce ratio\n",
    "\n",
    "# richest country\n",
    "gdp_max = happy_data.loc[happy_data['GDP per capita'] == happy_data['GDP per capita'].max()]\n",
    "num_female = gdp_max['Workforce Gender Ratio']\n",
    "num_male = 100\n",
    "\n",
    "colors=['purple', 'green']\n",
    "labels=['Female','Male']\n",
    "title='Workforce Gender Ratio in Richest Country'\n",
    "plt.pie([num_female,num_male], colors=colors, labels=labels, autopct='%1.1f%%')\n",
    "plt.title(title)\n",
    "plt.show()"
   ]
  },
  {
   "cell_type": "code",
   "execution_count": null,
   "id": "e9c68400",
   "metadata": {},
   "outputs": [],
   "source": [
    "# poorest country\n",
    "\n",
    "gdp_min = happy_data.loc[happy_data['GDP per capita'] == happy_data['GDP per capita'].min()]\n",
    "\n",
    "num_female = gdp_min['Workforce Gender Ratio']\n",
    "num_male = 100\n",
    "\n",
    "colors=['purple', 'green']\n",
    "labels=['Female','Male']\n",
    "title='Workforce Gender Ratio in Poorest Country'\n",
    "plt.pie([num_female,num_male], colors=colors, labels=labels, autopct='%1.1f%%')\n",
    "plt.title(title)\n",
    "plt.show()"
   ]
  },
  {
   "cell_type": "code",
   "execution_count": null,
   "id": "750d584e",
   "metadata": {},
   "outputs": [],
   "source": []
  }
 ],
 "metadata": {
  "kernelspec": {
   "display_name": "Python 3",
   "language": "python",
   "name": "python3"
  },
  "language_info": {
   "codemirror_mode": {
    "name": "ipython",
    "version": 3
   },
   "file_extension": ".py",
   "mimetype": "text/x-python",
   "name": "python",
   "nbconvert_exporter": "python",
   "pygments_lexer": "ipython3",
   "version": "3.8.8"
  }
 },
 "nbformat": 4,
 "nbformat_minor": 5
}
